{
 "cells": [
  {
   "cell_type": "code",
   "execution_count": 1,
   "id": "504f0dbb-ae01-4b44-a4b4-1829da427017",
   "metadata": {},
   "outputs": [
    {
     "data": {
      "text/plain": [
       "[WindowsPath('../data/ready/HI_Medium_ready.parquet'),\n",
       " WindowsPath('../data/ready/HI_Small_ready.parquet'),\n",
       " WindowsPath('../data/ready/LI_Medium_ready.parquet'),\n",
       " WindowsPath('../data/ready/LI_Small_ready.parquet')]"
      ]
     },
     "execution_count": 1,
     "metadata": {},
     "output_type": "execute_result"
    }
   ],
   "source": [
    "from pathlib import Path\n",
    "READY = Path(\"../data/ready\")\n",
    "list(READY.glob(\"*_ready.parquet\"))\n"
   ]
  },
  {
   "cell_type": "code",
   "execution_count": null,
   "id": "302bb688-e2e2-41b2-a664-583c2140f6a0",
   "metadata": {},
   "outputs": [],
   "source": []
  }
 ],
 "metadata": {
  "kernelspec": {
   "display_name": "Python 3 (ipykernel)",
   "language": "python",
   "name": "python3"
  },
  "language_info": {
   "codemirror_mode": {
    "name": "ipython",
    "version": 3
   },
   "file_extension": ".py",
   "mimetype": "text/x-python",
   "name": "python",
   "nbconvert_exporter": "python",
   "pygments_lexer": "ipython3",
   "version": "3.12.2"
  }
 },
 "nbformat": 4,
 "nbformat_minor": 5
}
